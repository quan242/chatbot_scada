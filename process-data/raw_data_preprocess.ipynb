{
 "cells": [
  {
   "cell_type": "code",
   "execution_count": 1,
   "metadata": {},
   "outputs": [
    {
     "name": "stdout",
     "output_type": "stream",
     "text": [
      "2024-02-23 21:42:13 INFO  WordSegmenter:24 - Loading Word Segmentation model\n"
     ]
    }
   ],
   "source": [
    "import py_vncorenlp\n",
    "segmenter = py_vncorenlp.VnCoreNLP(annotators=[\"wseq\"],save_dir=\"/workspace/nlplab/quannd/scada-full-stack/chatbot-scada/vncorenlp/\")"
   ]
  },
  {
   "cell_type": "code",
   "execution_count": 2,
   "metadata": {},
   "outputs": [],
   "source": [
    "from underthesea import text_normalize"
   ]
  },
  {
   "cell_type": "code",
   "execution_count": 3,
   "metadata": {},
   "outputs": [],
   "source": [
    "import os\n",
    "import re"
   ]
  },
  {
   "cell_type": "code",
   "execution_count": 4,
   "metadata": {},
   "outputs": [],
   "source": [
    "dir_path = \"/workspace/nlplab/quannd/scada-full-stack/raw_data_by_intent/\""
   ]
  },
  {
   "cell_type": "code",
   "execution_count": 6,
   "metadata": {},
   "outputs": [],
   "source": [
    "for intent in [\"color_background.txt\"]:\n",
    "    file = open(f\"/workspace/nlplab/quannd/scada-full-stack/raw_data_by_intent/{intent}\", \"r\")\n",
    "    content = file.read()\n",
    "    # if content.startswith(r\"\\\"\"):\n",
    "    #     content = content[1:]\n",
    "    # content = re.sub(r\"\\n\\\"\", \"\\n\", content)\n",
    "    # content = re.sub(r\"\\\"\\n\", \"\\n\", content)\n",
    "    sent_list = content.split(\"\\n\")\n",
    "\n",
    "    file.close()\n",
    "    new_sent_list = []\n",
    "    for sent in sent_list:\n",
    "\n",
    "        new_sent = text_normalize(sent)\n",
    "        words = segmenter.word_segment(new_sent)\n",
    "        words = [word.replace(\"_\", \" \") for word in words]\n",
    "        new_sent = \" \".join(words)\n",
    "        new_sent = \"<i> \" + new_sent\n",
    "        new_sent_list.append(new_sent)\n",
    "    new_w_file = \"\\n\".join(new_sent_list)\n",
    "    w_file = open(f\"/workspace/nlplab/quannd/scada-full-stack/raw_data_by_intent/{intent}\", \"w\")\n",
    "    w_file.write(new_w_file)\n",
    "    w_file.close()\n"
   ]
  },
  {
   "cell_type": "code",
   "execution_count": null,
   "metadata": {},
   "outputs": [],
   "source": []
  }
 ],
 "metadata": {
  "kernelspec": {
   "display_name": "rasa_env_3.4",
   "language": "python",
   "name": "python3"
  },
  "language_info": {
   "codemirror_mode": {
    "name": "ipython",
    "version": 3
   },
   "file_extension": ".py",
   "mimetype": "text/x-python",
   "name": "python",
   "nbconvert_exporter": "python",
   "pygments_lexer": "ipython3",
   "version": "3.8.5"
  }
 },
 "nbformat": 4,
 "nbformat_minor": 2
}
